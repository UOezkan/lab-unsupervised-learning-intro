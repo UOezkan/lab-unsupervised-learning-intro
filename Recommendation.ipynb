{
 "cells": [
  {
   "cell_type": "code",
   "execution_count": 1,
   "id": "7af0b6c5",
   "metadata": {},
   "outputs": [],
   "source": [
    "import numpy as np\n",
    "import pandas as pd\n",
    "from pandas import json_normalize\n",
    "import spotipy \n",
    "from spotipy.oauth2 import SpotifyClientCredentials\n",
    "import pickle\n",
    "from IPython.display import IFrame"
   ]
  },
  {
   "cell_type": "code",
   "execution_count": 3,
   "id": "24d9fda6",
   "metadata": {},
   "outputs": [],
   "source": [
    "top100 = pd.read_csv('top100.csv')\n",
    "top_10000 = pd.read_csv('song_clusters.csv')"
   ]
  },
  {
   "cell_type": "code",
   "execution_count": null,
   "id": "c33a8632",
   "metadata": {},
   "outputs": [],
   "source": [
    "song = input(\"Song title: \")\n",
    "song = song.strip().lower()\n",
    "artist = input(\"Name of the Artist: \")\n",
    "artist = artist.strip().lower()\n",
    "user_result = sp.search(q=\"artist:\" + artist + \" track:\" + song, type=\"track\", limit=1)\n",
    "tracks = json_normalize(user_result[\"tracks\"][\"items\"])"
   ]
  },
  {
   "cell_type": "code",
   "execution_count": null,
   "id": "0ab16d71",
   "metadata": {},
   "outputs": [],
   "source": [
    "#identify wrong input\n",
    "if user_result['tracks']['items'] == []:\n",
    "    print ('Please try again')\n",
    "    \n",
    "elif song in top100_df['title'].str.lower().values and artist in top100_df['artist'].str.lower().values:\n",
    "            #select a random song\n",
    "        random=top100_df.sample()\n",
    "            #searching the song in spotify to produce a clikable link\n",
    "        random_result = sp.search (q=\"artist:\" + random['artist'].values[0] + \n",
    "                                   \" track:\" + random['title'].values[0], type=\"track\", limit=1)\n",
    "        random_song = json_normalize(random_result[\"tracks\"][\"items\"])\n",
    "        song_id = random_song['id'].values[0]\n",
    "        print(\"You should check out this hot song:\")\n",
    "        print(random['title'].values[0], ' by ', random['artist'].values[0])\n",
    "        display(IFrame(src=f\"https://open.spotify.com/embed/track/{song_id}\",\n",
    "                       width=\"320\",\n",
    "                       height=\"80\",\n",
    "                       frameborder=\"0\",\n",
    "                       allowtransparency=\"true\",\n",
    "                       allow=\"encrypted-media\",\n",
    "                      ))\n",
    "else:\n",
    "        #recommend top 10000 songs\n",
    "            #extracting audio features\n",
    "        audio_features_list = sp.audio_features(tracks['id'][0])\n",
    "        audio_features_df = json_normalize(audio_features_list)\n",
    "        user_df = pd.concat([tracks[\"popularity\"], audio_features_df], axis=1)\n",
    "        num_df=user_df.select_dtypes('number')\n",
    "            #using saved scaler and cluster model\n",
    "        scale = pickle.load(open('scaler_model.pkl','rb'))\n",
    "        num_scaled = scale.transform(num_df)\n",
    "        data_scaled = pd.DataFrame(num_scaled, columns=num_df.columns)\n",
    "        model = pickle.load(open('clustering_model.pkl','rb'))\n",
    "        user_cluster = model.predict(data_scaled)\n",
    "            #retrieving cluster number\n",
    "        user_cluster = user_cluster[0]\n",
    "            #selecting songs subset from the same cluster\n",
    "        songs_cluster= top_10000[top_10000[\"cluster\"]==user_cluster]\n",
    "            #recommending random song from the cluster\n",
    "        random=songs_cluster.sample()\n",
    "        song_id=random['song_id'].values[0]\n",
    "        print(\"You should check out:\")\n",
    "        print(random['song_name'].values[0], ' by ', random['name'].values[0])\n",
    "            #generate clikable link\n",
    "        display(IFrame(src=f\"https://open.spotify.com/embed/track/{song_id}\",\n",
    "                       width=\"320\",\n",
    "                       height=\"80\",\n",
    "                       frameborder=\"0\",\n",
    "                       allowtransparency=\"true\",\n",
    "                       allow=\"encrypted-media\",\n",
    "                      ))\n",
    "        return"
   ]
  }
 ],
 "metadata": {
  "kernelspec": {
   "display_name": "Python 3 (ipykernel)",
   "language": "python",
   "name": "python3"
  },
  "language_info": {
   "codemirror_mode": {
    "name": "ipython",
    "version": 3
   },
   "file_extension": ".py",
   "mimetype": "text/x-python",
   "name": "python",
   "nbconvert_exporter": "python",
   "pygments_lexer": "ipython3",
   "version": "3.11.7"
  }
 },
 "nbformat": 4,
 "nbformat_minor": 5
}
